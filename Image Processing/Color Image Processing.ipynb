{
 "cells": [
  {
   "cell_type": "code",
   "execution_count": 12,
   "metadata": {},
   "outputs": [],
   "source": [
    "import numpy as np\n",
    "from skimage import io, exposure, transform\n",
    "from matplotlib import pyplot as plt\n",
    "from IPython.display import Image\n",
    "import os, sys"
   ]
  },
  {
   "cell_type": "code",
   "execution_count": 13,
   "metadata": {},
   "outputs": [],
   "source": [
    "%matplotlib inline"
   ]
  },
  {
   "cell_type": "code",
   "execution_count": 44,
   "metadata": {},
   "outputs": [],
   "source": [
    "def read_band(n):\n",
    "    \"\"\"\n",
    "    Load Landsat 8 band\n",
    "    Input:\n",
    "    n - integer in the range 1-11\n",
    "    Output:\n",
    "    img - 2D array of uint16 type\n",
    "    \"\"\"\n",
    "    if n in range(1, 12):\n",
    "        tif_list = os.listdir()\n",
    "        band_name = 'B' + str(n) + '.TIF'\n",
    "        img_idx = [idx for idx, band_string in enumerate(tif_list) if band_name in band_string]\n",
    "        img = io.imread(tif_list[img_idx[0]])\n",
    "        return img\n",
    "    else:\n",
    "        print('Band number has to be in the range 1-11!')"
   ]
  },
  {
   "cell_type": "code",
   "execution_count": 45,
   "metadata": {},
   "outputs": [],
   "source": [
    "def color_image_show(img, title):\n",
    "    \"\"\"\n",
    "    Show image\n",
    "    Input:\n",
    "    img - 3D array of uint16 type\n",
    "    title - string\n",
    "    \"\"\"\n",
    "    fig = plt.figure(figsize=(10, 10))\n",
    "    fig.set_facecolor('white')\n",
    "    plt.imshow(img/65535)\n",
    "    plt.title(title)\n",
    "    plt.show()"
   ]
  },
  {
   "cell_type": "code",
   "execution_count": 46,
   "metadata": {},
   "outputs": [
    {
     "name": "stdout",
     "output_type": "stream",
     "text": [
      "D:\\Dataaa\\LC08_L1TP_116049_20140530_20170422_01_T1.tar\\LC08_L1TP_116049_20140530_20170422_01_T1\n"
     ]
    }
   ],
   "source": [
    "cd \\Dataaa\\LC08_L1TP_116049_20140530_20170422_01_T1.tar\\LC08_L1TP_116049_20140530_20170422_01_T1\\"
   ]
  },
  {
   "cell_type": "code",
   "execution_count": 47,
   "metadata": {},
   "outputs": [],
   "source": [
    "b2 = read_band(2)\n",
    "b3 = read_band(3)\n",
    "b4 = read_band(4)\n",
    "\n",
    "img432 = np.dstack((b4, b3, b2))\n",
    "%reset_selective -f b"
   ]
  },
  {
   "cell_type": "code",
   "execution_count": 48,
   "metadata": {},
   "outputs": [],
   "source": [
    "#color_image_show(img432, '4-3-2 image, data set LC08_L1TP_116049_20150517_20170409_01_T1')"
   ]
  },
  {
   "cell_type": "code",
   "execution_count": 49,
   "metadata": {},
   "outputs": [
    {
     "data": {
      "image/png": "[encoded data removed]",
      "text/plain": [
       "<Figure size 720x504 with 1 Axes>"
      ]
     },
     "metadata": {},
     "output_type": "display_data"
    }
   ],
   "source": [
    "fig = plt.figure(figsize=(10, 7))\n",
    "fig.set_facecolor('white')\n",
    "\n",
    "for color, channel in zip('rgb', np.rollaxis(img432, axis=-1)):\n",
    "    counts, centers = exposure.histogram(channel)\n",
    "    plt.plot(centers[1::], counts[1::], color=color)\n",
    "\n",
    "plt.show()"
   ]
  },
  {
   "cell_type": "code",
   "execution_count": null,
   "metadata": {},
   "outputs": [],
   "source": [
    "img432_ha = np.empty(img432.shape, dtype='uint16')\n",
    "lims = [(7100,12500), (8200, 14000), (9200,17500)]\n",
    "for lim, channel in zip(lims, range(3)):\n",
    "    img432_ha[:, :, channel] = exposure.rescale_intensity(img432[:, :, channel], lim)\n",
    "\n",
    "color_image_show(img432_ha, '4-3-2 image, histogram equalized')"
   ]
  },
  {
   "cell_type": "code",
   "execution_count": null,
   "metadata": {},
   "outputs": [],
   "source": [
    "img432_roi = np.dstack((b4, b3, b2))[4400:5200, 3500:4100, :]"
   ]
  },
  {
   "cell_type": "code",
   "execution_count": null,
   "metadata": {},
   "outputs": [],
   "source": [
    "b4 = b4/b4.max()\n",
    "b3 = b3/b3.max()\n",
    "b2 = b2/b2.max()\n",
    "b8 = b8/b8.max()"
   ]
  },
  {
   "cell_type": "code",
   "execution_count": null,
   "metadata": {},
   "outputs": [],
   "source": [
    "b4 = b4[4400:5200, 3500:4100]\n",
    "b3 = b3[4400:5200, 3500:4100]\n",
    "b2 = b2[4400:5200, 3500:4100]\n",
    "b8 = b8[8800:10400, 7000:8200]"
   ]
  },
  {
   "cell_type": "code",
   "execution_count": null,
   "metadata": {},
   "outputs": [],
   "source": [
    "img432 = np.dstack((b4, b3, b2))\n",
    "img432_2x = transform.rescale(img432, 2)"
   ]
  },
  {
   "cell_type": "code",
   "execution_count": null,
   "metadata": {},
   "outputs": [],
   "source": []
  },
  {
   "cell_type": "code",
   "execution_count": null,
   "metadata": {},
   "outputs": [],
   "source": []
  }
 ],
 "metadata": {
  "kernelspec": {
   "display_name": "Python 3",
   "language": "python",
   "name": "python3"
  },
  "language_info": {
   "codemirror_mode": {
    "name": "ipython",
    "version": 3
   },
   "file_extension": ".py",
   "mimetype": "text/x-python",
   "name": "python",
   "nbconvert_exporter": "python",
   "pygments_lexer": "ipython3",
   "version": "3.5.0"
  }
 },
 "nbformat": 4,
 "nbformat_minor": 2
}
