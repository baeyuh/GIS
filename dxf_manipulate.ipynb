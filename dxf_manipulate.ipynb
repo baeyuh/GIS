{
 "cells": [
  {
   "cell_type": "code",
   "execution_count": null,
   "metadata": {},
   "outputs": [],
   "source": [
    "%matplotlib inline\n",
    "import geopandas as gpd\n"
   ]
  },
  {
   "cell_type": "code",
   "execution_count": null,
   "metadata": {},
   "outputs": [],
   "source": [
    "#open the DXF file\n",
    "dxf_file = gpd.read_file('../folder/drawing.dxf')\n",
    "dxf_file.plot()\n"
   ]
  },
  {
   "cell_type": "code",
   "execution_count": null,
   "metadata": {},
   "outputs": [],
   "source": [
    "#scale the DXF to spatial extent \n",
    "#scale parameters (x, y, z, origin=(_))\n",
    "#scale params are equal to drawing scale divided by measured extents in QGIS\n",
    "geometryScaled = dxf_file.scale(x,y,1,origin=(0,0,0))\n",
    "geometryScaled.plot()\n"
   ]
  },
  {
   "cell_type": "code",
   "execution_count": null,
   "metadata": {},
   "outputs": [],
   "source": [
    "#translate the geometry to PRS92 ZONE_\n",
    "#translate parameters (x-offset, y-offset, z-offset) \n",
    "#georeference and use QGIS coordinates found at the bottom of the map view\n",
    "geometryTranslated = geometryScaled.translate(x-coord,y=coord,0)\n",
    "geometryTranslated.plot()\n"
   ]
  },
  {
   "cell_type": "code",
   "execution_count": null,
   "metadata": {},
   "outputs": [],
   "source": [
    "#apply the new geometry to the geopandas dataframe and apply the EPSG code\n",
    "#link to PRS92 EPSG codes: https://spatialreference.org/ref/?search=prs92\n",
    "dxf_file = gpd.GeoDataFrame(dxf_file, geometry=geometryTranslated)\n",
    "dxf_file.crs = {'init':'epsg:code'}\n",
    "dxf_file.plot()\n"
   ]
  },
  {
   "cell_type": "code",
   "execution_count": null,
   "metadata": {},
   "outputs": [],
   "source": [
    "#export the spatial as shapefile\n",
    "dxf_file.to_file('../folder/dxf_file.shp')\n"
   ]
  }
 ],
 "metadata": {
  "kernelspec": {
   "display_name": "Python 3",
   "language": "python",
   "name": "python3"
  },
  "language_info": {
   "codemirror_mode": {
    "name": "ipython",
    "version": 3
   },
   "file_extension": ".py",
   "mimetype": "text/x-python",
   "name": "python",
   "nbconvert_exporter": "python",
   "pygments_lexer": "ipython3",
   "version": "3.5.0"
  }
 },
 "nbformat": 4,
 "nbformat_minor": 2
}
